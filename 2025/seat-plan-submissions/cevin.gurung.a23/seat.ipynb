{
 "cells": [
  {
   "cell_type": "code",
   "execution_count": null,
   "id": "3d329134-355c-4561-95a4-b0b1c2a78d11",
   "metadata": {},
   "outputs": [
    {
     "name": "stdout",
     "output_type": "stream",
     "text": [
      "Enter the student's name or class:  RISHES PUN\n"
     ]
    },
    {
     "name": "stdout",
     "output_type": "stream",
     "text": [
      "Student: RISHES PUN | Seat Number: nan | Class: Fewa\n"
     ]
    }
   ],
   "source": [
    "import pandas as pd\n",
    "\n",
    "def find_seat_and_class(excel_file, student_name_or_class):\n",
    "    xls = pd.ExcelFile(excel_file)\n",
    "    for sheet_name in xls.sheet_names:\n",
    "        sheet = pd.read_excel(xls, sheet_name=sheet_name)\n",
    "        for col in sheet.columns:\n",
    "            if sheet[col].apply(lambda x: str(x).lower() == student_name_or_class.lower()).any():\n",
    "                student_row = sheet[sheet[col].str.lower() == student_name_or_class.lower()].index[0]\n",
    "                seat_number = sheet.iloc[student_row, -1] \n",
    "                return f\"Student: {student_name_or_class} | Seat Number: {seat_number} | Class: {sheet_name}\"\n",
    "    \n",
    "    return \"Student not found.\"\n",
    "\n",
    "student_name_or_class = input(\"Enter the student's name or class: \")\n",
    "excel_file = r\"C:\\Users\\msi\\Desktop\\Developer Community\\Exam Sheet\\SeatPlanning.xlsx\"\n",
    "\n",
    "result = find_seat_and_class(excel_file, student_name_or_class)\n",
    "print(result)\n"
   ]
  },
  {
   "cell_type": "code",
   "execution_count": null,
   "id": "2b4cb319-106c-42b2-a959-694cda0b4522",
   "metadata": {},
   "outputs": [],
   "source": []
  }
 ],
 "metadata": {
  "kernelspec": {
   "display_name": "Python [conda env:base] *",
   "language": "python",
   "name": "conda-base-py"
  },
  "language_info": {
   "codemirror_mode": {
    "name": "ipython",
    "version": 3
   },
   "file_extension": ".py",
   "mimetype": "text/x-python",
   "name": "python",
   "nbconvert_exporter": "python",
   "pygments_lexer": "ipython3",
   "version": "3.12.7"
  }
 },
 "nbformat": 4,
 "nbformat_minor": 5
}
